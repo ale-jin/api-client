{
 "cells": [
  {
   "cell_type": "markdown",
   "metadata": {},
   "source": [
    "# API Client\n",
    "\n",
    "Client implementation of Cryptomon API (https://api.cryptomon.io/swagger-ui.html).\n"
   ]
  },
  {
   "cell_type": "markdown",
   "metadata": {},
   "source": [
    "### Run Python code\n",
    "\n",
    "To run the code below:\n",
    "\n",
    "1. Click on the cell to select it.\n",
    "2. Press `SHIFT+ENTER` on your keyboard or press the play button (<button class='fa fa-play icon-play btn btn-xs btn-default'></button>) in the toolbar above.\n",
    "\n",
    "A full tutorial for using the notebook interface is available [here](ipython_examples/Notebook/Index.ipynb)."
   ]
  },
  {
   "cell_type": "code",
   "execution_count": 2,
   "metadata": {
    "collapsed": false
   },
   "outputs": [
    {
     "name": "stdout",
     "output_type": "stream",
     "text": [
      "Requesting access_token...\n",
      "Success, access_token: b69084f1-527b-23b8-b770-620e4d4fd628, expires_in: 2879\n",
      "Request, url: https://api.cryptomon.io/api/v1/candles, params: {'limit': '1', 'market': 'BITSTAMP', 'ascending': 'true', 'period': 'ONE_HOUR', 'currencyPair': 'BTC_USD'}\n",
      "Success, status_code: 200\n",
      "Total rows from API: 1\n"
     ]
    }
   ],
   "source": [
    "from ApiClient import ApiClient\n",
    "\n",
    "CLIENT_ID = \"<API_CLIENT_ID>\";\n",
    "CLIENT_SECRET = \"<API_CLIENT_SECRET>\"\n",
    "\n",
    "c = ApiClient(CLIENT_ID, CLIENT_SECRET);\n",
    "c.request_access()\n",
    "\n",
    "params = {\n",
    "    \"market\" : \"BITSTAMP\",\n",
    "    \"currencyPair\" : \"BTC_USD\",\n",
    "    \"period\" : \"ONE_HOUR\",\n",
    "    \"ascending\" : \"true\",\n",
    "    \"limit\" : \"1\"\n",
    "}\n",
    "r = c.get(\"https://api.cryptomon.io/api/v1/candles\", params)\n",
    "\n",
    "print(\"Total rows from API: {}\".format(len(r)))\n",
    "        "
   ]
  },
  {
   "cell_type": "code",
   "execution_count": 3,
   "metadata": {
    "collapsed": false
   },
   "outputs": [
    {
     "name": "stdout",
     "output_type": "stream",
     "text": [
      "[NbConvertApp] Converting notebook main.ipynb to markdown\n",
      "[NbConvertApp] Writing 1446 bytes to main.md\n"
     ]
    }
   ],
   "source": [
    "# Let's convert this notebook to a README for the GitHub project's title page:\n",
    "!jupyter nbconvert --to markdown main.ipynb\n",
    "!mv main.md README.md"
   ]
  }
 ],
 "metadata": {
  "kernelspec": {
   "display_name": "Python 3",
   "language": "python",
   "name": "python3"
  },
  "language_info": {
   "codemirror_mode": {
    "name": "ipython",
    "version": 3
   },
   "file_extension": ".py",
   "mimetype": "text/x-python",
   "name": "python",
   "nbconvert_exporter": "python",
   "pygments_lexer": "ipython3",
   "version": "3.4.5"
  }
 },
 "nbformat": 4,
 "nbformat_minor": 2
}
